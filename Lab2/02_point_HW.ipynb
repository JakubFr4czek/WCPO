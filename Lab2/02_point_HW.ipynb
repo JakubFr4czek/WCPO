{
  "cells": [
    {
      "cell_type": "markdown",
      "metadata": {
        "collapsed": false,
        "id": "m5Q2hnDC3NuL"
      },
      "source": [
        "# Zadanie domowe\n",
        "\n",
        "W przypadku obrazów w odcieniach szarości pojedynczy piksel z zakresu [0; 255] reprezentowany jest jako 8-bitowa liczba bez znaku.\n",
        "Pewnym rozszerzeniem analizy sposobu reprezentacji obrazu może być następujący eksperyment.\n",
        "Załóżmy, że z każdego z 8 bitów możemy stworzyć pojedynczy obraz binarny (ang. _bit-plane slicing_).\n",
        "Dla obrazka _100zloty.jpg_ (https://raw.githubusercontent.com/vision-agh/poc_sw/master/02_Point/100zloty.jpg) stwórz 8 obrazów, z których każdy powinien zawierać jedną płaszczyznę bitową.\n",
        "Podpowiedź $-$ warto sprawdzić, jak realizuje się bitowe operacje logiczne.\n",
        "Zastosowanie takiej dekompozycji obrazu pozwala na analizę ,,ważności'' poszczególnych bitów.\n",
        "Jest to użyteczne w kwantyzacji, ale także w kompresji.\n",
        "\n",
        "W drugim etapie zadania proszę spróbować odtworzyć obraz oryginalny z mniejszej liczby obrazów binarnych.\n",
        "Warto zacząć od dwóch najbardziej znaczących bitów, a później dodawać kolejne.\n",
        "Należy utworzyć co najmniej trzy wersje zrekonstruowanych obrazów.\n",
        "Podpowiedź $-$ rekonstrukcja obrazu to mnożenie przez odpowiednią potęgę liczby 2 (przesunięcie bitowe) oraz dodawanie."
      ]
    },
    {
      "cell_type": "code",
      "execution_count": 156,
      "metadata": {
        "id": "tsKtFztv4T2l"
      },
      "outputs": [],
      "source": [
        "import cv2\n",
        "import os\n",
        "import requests\n",
        "import matplotlib.pyplot as plt\n",
        "\n",
        "url = 'https://raw.githubusercontent.com/vision-agh/poc_sw/master/02_Point/'\n",
        "fileName = '100zloty.jpg'\n",
        "if not os.path.exists(fileName) :\n",
        "    r = requests.get(url + fileName, allow_redirects=True)\n",
        "    open(fileName, 'wb').write(r.content)"
      ]
    },
    {
      "cell_type": "code",
      "execution_count": 157,
      "metadata": {},
      "outputs": [],
      "source": [
        "def bit_slice(pixel, plane):\n",
        "    # plane = [1,2, ..., 8]\n",
        "    \n",
        "    if plane < 1 or plane > 8:\n",
        "        raise Exception(\"Wrong bit slice level\")\n",
        "    \n",
        "    return pixel & (2 ** (plane - 1))"
      ]
    },
    {
      "cell_type": "code",
      "execution_count": 188,
      "metadata": {},
      "outputs": [],
      "source": [
        "def bit_slice_image(img, plane, brightened = False):\n",
        "    stowa = cv2.imread(img)\n",
        "\n",
        "    height, width, _ = stowa.shape\n",
        "\n",
        "    for y in range(height):\n",
        "        for x in range(width):\n",
        "            pixel = stowa[y, x]\n",
        "            blue = bit_slice(pixel[0], plane)\n",
        "            green = bit_slice(pixel[1], plane)\n",
        "            red = bit_slice(pixel[2], plane)\n",
        "            \n",
        "            if brightened: \n",
        "                blue = max(150, blue) if blue > 0 else 0\n",
        "                green = max(150, green) if green > 0 else 0\n",
        "                red = max(150, red) if red > 0 else 0\n",
        "             \n",
        "            \n",
        "            stowa[y, x] = (blue, green, red)\n",
        "                \n",
        "    plt.imshow(stowa)\n",
        "    plt.axis('off') "
      ]
    },
    {
      "cell_type": "markdown",
      "metadata": {},
      "source": [
        "Wykonuję najpierw zwykły slicing"
      ]
    },
    {
      "cell_type": "code",
      "execution_count": null,
      "metadata": {},
      "outputs": [],
      "source": [
        "bit_slice_image('100zloty.jpg', 8)"
      ]
    },
    {
      "cell_type": "code",
      "execution_count": null,
      "metadata": {},
      "outputs": [],
      "source": [
        "bit_slice_image('100zloty.jpg', 7)"
      ]
    },
    {
      "cell_type": "code",
      "execution_count": null,
      "metadata": {},
      "outputs": [],
      "source": [
        "bit_slice_image('100zloty.jpg', 6)"
      ]
    },
    {
      "cell_type": "code",
      "execution_count": null,
      "metadata": {},
      "outputs": [],
      "source": [
        "bit_slice_image('100zloty.jpg', 5)"
      ]
    },
    {
      "cell_type": "code",
      "execution_count": null,
      "metadata": {},
      "outputs": [],
      "source": [
        "bit_slice_image('100zloty.jpg', 4)"
      ]
    },
    {
      "cell_type": "code",
      "execution_count": null,
      "metadata": {},
      "outputs": [],
      "source": [
        "bit_slice_image('100zloty.jpg', 3)"
      ]
    },
    {
      "cell_type": "code",
      "execution_count": null,
      "metadata": {},
      "outputs": [],
      "source": [
        "bit_slice_image('100zloty.jpg', 2)"
      ]
    },
    {
      "cell_type": "code",
      "execution_count": null,
      "metadata": {},
      "outputs": [],
      "source": [
        "bit_slice_image('100zloty.jpg', 1)"
      ]
    },
    {
      "cell_type": "markdown",
      "metadata": {},
      "source": [
        "Rozjaśnione ciemniejszych slice'ow"
      ]
    },
    {
      "cell_type": "code",
      "execution_count": null,
      "metadata": {},
      "outputs": [],
      "source": [
        "bit_slice_image('100zloty.jpg', 8, True)"
      ]
    },
    {
      "cell_type": "code",
      "execution_count": null,
      "metadata": {},
      "outputs": [],
      "source": [
        "bit_slice_image('100zloty.jpg', 7, True)"
      ]
    },
    {
      "cell_type": "code",
      "execution_count": null,
      "metadata": {},
      "outputs": [],
      "source": [
        "bit_slice_image('100zloty.jpg', 6, True)"
      ]
    },
    {
      "cell_type": "code",
      "execution_count": null,
      "metadata": {},
      "outputs": [],
      "source": [
        "bit_slice_image('100zloty.jpg', 5, True)"
      ]
    },
    {
      "cell_type": "code",
      "execution_count": null,
      "metadata": {},
      "outputs": [],
      "source": [
        "bit_slice_image('100zloty.jpg', 4, True)"
      ]
    },
    {
      "cell_type": "code",
      "execution_count": null,
      "metadata": {},
      "outputs": [],
      "source": [
        "bit_slice_image('100zloty.jpg', 3, True)"
      ]
    },
    {
      "cell_type": "code",
      "execution_count": null,
      "metadata": {},
      "outputs": [],
      "source": [
        "bit_slice_image('100zloty.jpg', 2, True)"
      ]
    },
    {
      "cell_type": "code",
      "execution_count": null,
      "metadata": {},
      "outputs": [],
      "source": [
        "bit_slice_image('100zloty.jpg', 1, True)"
      ]
    },
    {
      "cell_type": "markdown",
      "metadata": {},
      "source": [
        "Rekonstrukcja"
      ]
    },
    {
      "cell_type": "code",
      "execution_count": 196,
      "metadata": {},
      "outputs": [],
      "source": [
        "def reconstruct_from_slice(img, planes):\n",
        "    stowa = cv2.imread(img)\n",
        "\n",
        "    height, width, _ = stowa.shape\n",
        "\n",
        "    for y in range(height):\n",
        "        for x in range(width):\n",
        "            pixel = stowa[y, x]\n",
        "            \n",
        "            blue = 0\n",
        "            green = 0\n",
        "            red = 0\n",
        "            \n",
        "            for plane in planes:\n",
        "            \n",
        "                blue |= bit_slice(pixel[0], plane)\n",
        "                green |= bit_slice(pixel[1], plane)\n",
        "                red |= bit_slice(pixel[2], plane)\n",
        "            \n",
        "            stowa[y, x] = (blue, green, red)\n",
        "                \n",
        "    plt.imshow(stowa)\n",
        "    plt.axis('off') "
      ]
    },
    {
      "cell_type": "code",
      "execution_count": null,
      "metadata": {},
      "outputs": [],
      "source": [
        "reconstruct_from_slice('100zloty.jpg', [8, 7, 6, 5, 4, 3, 2, 1])"
      ]
    },
    {
      "cell_type": "code",
      "execution_count": null,
      "metadata": {},
      "outputs": [],
      "source": [
        "reconstruct_from_slice('100zloty.jpg', [8, 7])"
      ]
    },
    {
      "cell_type": "code",
      "execution_count": null,
      "metadata": {},
      "outputs": [],
      "source": [
        "reconstruct_from_slice('100zloty.jpg', [5, 4, 3, 2, 1])"
      ]
    },
    {
      "cell_type": "code",
      "execution_count": null,
      "metadata": {},
      "outputs": [],
      "source": [
        "reconstruct_from_slice('100zloty.jpg', [7, 5, 3, 1])"
      ]
    }
  ],
  "metadata": {
    "colab": {
      "provenance": []
    },
    "kernelspec": {
      "display_name": "Python 3",
      "language": "python",
      "name": "python3"
    },
    "language_info": {
      "codemirror_mode": {
        "name": "ipython",
        "version": 3
      },
      "file_extension": ".py",
      "mimetype": "text/x-python",
      "name": "python",
      "nbconvert_exporter": "python",
      "pygments_lexer": "ipython3",
      "version": "3.11.9"
    }
  },
  "nbformat": 4,
  "nbformat_minor": 0
}
