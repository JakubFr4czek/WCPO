{
 "cells": [
  {
   "cell_type": "markdown",
   "metadata": {
    "collapsed": false,
    "id": "4Fbe36eKPM0s"
   },
   "source": [
    "## Zadanie domowe: BBHE i DSIHE\n",
    "\n",
    "W klasycznym wyrównywaniu histogramu HE  po wykonaniu operacji jasność obrazu ulega zmianie.\n",
    "Dało się to zaobserwować podczas przeprowadzonych eksperymentów.\n",
    "Jeśli nie to należy uruchomić skrypt z sekcji A i zwrócić na to uwagę.\n",
    "Średnia jasność dąży do środkowego poziomu szarości.\n",
    "Jest to wada i dlatego klasyczne HE ma ograniczone zastosowanie.\n",
    "\n",
    "Powstało sporo metod, które eliminują to niekorzystne zjawisko.\n",
    "Najprostsze z nich polegają na dekompozycji obrazu wejściowego na dwa podobrazy (wg. pewnego kryterium).\n",
    "Następnie operacja HE wykonywana jest dla tych podobrazów.\n",
    "\n",
    "Dwie znane z literatury metody to:\n",
    "- Bi-Histogram Equalization\n",
    "- DSIHE - Dualistic Sub-Image Histogram Equalization\n",
    "\n",
    "W metodzie BBHE za kryterium podziału przyjmuje się średnią jasność w obrazie.\n",
    "W DSIHE obraz dzieli się na dwa podobrazy o takiej samej liczbie pikseli (jaśniejszych i ciemniejszych).\n",
    "\n",
    "W ramach zadania należy zaimplementować wybraną metodę: BBHE lub DSIHE (ew. obie).\n",
    "\n",
    "1. Wczytaj obraz *jet.bmp* i wylicz jego histogram.\n",
    "2. W kolejnym kroku należy wyznaczyć próg podziału obrazu na dwa podobrazy (*lm*).\n",
    "3. Dla BBHE wyznacz średnią jasność obrazu. Dla DSIHE można wykorzystać histogram skumulowany.\n",
    "Należy znaleźć poziom jasności który znajduje się \"w połowie\" histogramu skumulowanego.\n",
    "W tym celu warto stworzyć tablicę, zawierającą moduł histogramu skumulowanego pomniejszonego o połowę liczby pikseli.\n",
    "Następnie znaleźć minimum - `np.argmin`.\n",
    "4. Dalej należy podzielić histogram oryginalnego obrazu na dwa histogramy *H1* i *H2*.\n",
    "Dla każdego z nich wyliczyć histogram skumulowany ($C_1$ i $C_2$) i wykonać normalizację.\n",
    "Normalizacja polega na podzieleniu każdego histogramu przez jego największy element.\n",
    "5. Na podstawie histogramów skumulowanych należy stworzyć przekształcenie LUT.\n",
    "Należy tak przeskalować $C_1$ i $C_2$, aby uzyskać jednorodne przekształcenie.\n",
    "Tablicę $C_1$ wystarczy pomnożyć przez próg podziału.\n",
    "Tablicę $C_2$ należy przeskalować do przedziału: $<lm+1; 255>$, gdzie $lm$ jest progiem podziału.<br>\n",
    "$C_{1n} = (lm)*C1;$<br>\n",
    "$C_{2n} = lm+1 + (255-lm-1)*C2;$<br>\n",
    "Następnie dwie części tablicy przekodowań należy połączyć.\n",
    "6. Ostatecznie należy wykonać operację LUT i wyświetlić wynik wyrównywania histogramu.\n",
    "Porównaj wynik operacji BBHE lub DSIHE z klasycznym HE."
   ]
  },
  {
   "cell_type": "code",
   "execution_count": null,
   "metadata": {
    "id": "c2Q0bFkqPM0v",
    "pycharm": {
     "name": "#%% Zadanie domowe - BBHE\n"
    }
   },
   "outputs": [],
   "source": [
    "import cv2\n",
    "import os\n",
    "import requests\n",
    "from matplotlib import pyplot as plt\n",
    "import numpy as np\n",
    "\n",
    "url = 'https://raw.githubusercontent.com/vision-agh/poc_sw/master/03_Histogram/'\n",
    "\n",
    "fileName = 'jet.bmp'\n",
    "if not os.path.exists(fileName) :\n",
    "    r = requests.get(url + fileName, allow_redirects=True)\n",
    "    open(fileName, 'wb').write(r.content)"
   ]
  },
  {
   "cell_type": "code",
   "execution_count": null,
   "metadata": {
    "id": "KPTV1fMpPM0y",
    "pycharm": {
     "name": "#%% Zadanie domowe - DSIHE\n"
    }
   },
   "outputs": [],
   "source": [
    "jet = cv2.imread('jet.bmp')\n",
    "\n",
    "gray_jet = cv2.cvtColor(jet, cv2.COLOR_BGR2GRAY)\n",
    "bbhe_brg = int(np.mean(gray_jet))\n",
    "\n",
    "hist = cv2.calcHist([gray_jet], [0], None, [256], [0, 256])\n",
    "cumsum = np.cumsum(hist)\n",
    "cumsum_abs = abs(cumsum - (cumsum[-1] / 2))\n",
    "dsihe_brg = int(np.argmin(cumsum_abs))\n",
    "\n",
    "bbhe_hist_1 = hist[:bbhe_brg]\n",
    "bbhe_cumsum_1 = np.cumsum(bbhe_hist_1)\n",
    "bbhe_norm_1 = bbhe_cumsum_1 / np.max(bbhe_cumsum_1)\n",
    "\n",
    "bbhe_hist_2 = bbhe_hist_1 = hist[bbhe_brg:]\n",
    "bbhe_cumsum_2 = np.cumsum(bbhe_hist_2)\n",
    "bbhe_norm_2 = bbhe_cumsum_2 / np.max(bbhe_cumsum_2)\n",
    "\n",
    "dsihe_hist_1 = hist[:dsihe_brg]\n",
    "dsihe_cumsum_1 = np.cumsum(dsihe_hist_1)\n",
    "dsihe_norm_1 = dsihe_cumsum_1 / np.max(dsihe_cumsum_1)\n",
    "\n",
    "dsihe_hist_2 = hist[dsihe_brg:]\n",
    "dsihe_cumsum_2 = np.cumsum(dsihe_hist_2)\n",
    "dsihe_norm_2 = dsihe_cumsum_2 / np.max(dsihe_cumsum_2)\n",
    "\n",
    "\n",
    "bbhe_c_1 = bbhe_norm_1 * bbhe_brg\n",
    "bbhe_c_2 = bbhe_brg + 1 + (255 - bbhe_brg - 1) * bbhe_norm_2\n",
    "\n",
    "dsihe_c_1 = dsihe_norm_1 * dsihe_brg\n",
    "dsihe_c_2 = dsihe_brg + 1 + (255 - dsihe_brg - 1) * dsihe_norm_2\n",
    "\n",
    "bbhe_c = np.concatenate((bbhe_c_1, bbhe_c_2)).astype('uint8')\n",
    "\n",
    "dsihe_c = np.concatenate((dsihe_c_1, dsihe_c_2)).astype('uint8')\n",
    "\n",
    "\n",
    "jet_bbhe = cv2.LUT(jet, bbhe_c) \n",
    "jet_dsihe = cv2.LUT(jet, dsihe_c)\n",
    "\n",
    "jet_gray = cv2.cvtColor(jet, cv2.COLOR_BGR2GRAY)\n",
    "jet_he = cv2.equalizeHist(jet_gray)\n",
    "\n",
    "fig, axs = plt.subplots(1, 4, figsize=(20, 5))\n",
    "\n",
    "axs[0].imshow(jet, 'gray', vmin=0, vmax=256)\n",
    "axs[0].axis('off')\n",
    "axs[0].set_title('original')\n",
    "\n",
    "axs[1].imshow(jet_he, 'gray', vmin=0, vmax=256)\n",
    "axs[1].axis('off')\n",
    "axs[1].set_title('he')\n",
    "\n",
    "axs[2].imshow(jet_bbhe, 'gray', vmin=0, vmax=256)\n",
    "axs[2].axis('off')\n",
    "axs[2].set_title('bbhe')\n",
    "\n",
    "axs[3].imshow(jet_dsihe, 'gray', vmin=0, vmax=256)\n",
    "axs[3].axis('off')\n",
    "axs[3].set_title('dsihe')\n",
    "\n",
    "print()"
   ]
  }
 ],
 "metadata": {
  "colab": {
   "collapsed_sections": [],
   "provenance": []
  },
  "kernelspec": {
   "display_name": "Python 3",
   "language": "python",
   "name": "python3"
  },
  "language_info": {
   "codemirror_mode": {
    "name": "ipython",
    "version": 3
   },
   "file_extension": ".py",
   "mimetype": "text/x-python",
   "name": "python",
   "nbconvert_exporter": "python",
   "pygments_lexer": "ipython3",
   "version": "3.11.9"
  }
 },
 "nbformat": 4,
 "nbformat_minor": 0
}
